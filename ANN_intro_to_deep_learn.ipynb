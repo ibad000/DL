{
  "nbformat": 4,
  "nbformat_minor": 0,
  "metadata": {
    "colab": {
      "provenance": []
    },
    "kernelspec": {
      "name": "python3",
      "display_name": "Python 3"
    },
    "language_info": {
      "name": "python"
    }
  },
  "cells": [
    {
      "cell_type": "code",
      "execution_count": null,
      "metadata": {
        "colab": {
          "base_uri": "https://localhost:8080/"
        },
        "id": "V4HQv_D1-pwP",
        "outputId": "c1001296-df8e-4f26-97f5-384c33727951"
      },
      "outputs": [
        {
          "output_type": "stream",
          "name": "stdout",
          "text": [
            "Downloading data from https://storage.googleapis.com/tensorflow/tf-keras-datasets/mnist.npz\n",
            "11493376/11490434 [==============================] - 0s 0us/step\n",
            "11501568/11490434 [==============================] - 0s 0us/step\n"
          ]
        }
      ],
      "source": [
        "from keras.datasets import mnist\n",
        "(Xtrain,ytrain),(Xtest,ytest) = mnist.load_data()"
      ]
    },
    {
      "cell_type": "code",
      "source": [
        "Xtrain.shape,Xtest.shape"
      ],
      "metadata": {
        "colab": {
          "base_uri": "https://localhost:8080/"
        },
        "id": "LLqg-GL9_Bvn",
        "outputId": "fcb153d3-85b2-4de8-89eb-bd71606f8001"
      },
      "execution_count": null,
      "outputs": [
        {
          "output_type": "execute_result",
          "data": {
            "text/plain": [
              "((60000, 28, 28), (10000, 28, 28))"
            ]
          },
          "metadata": {},
          "execution_count": 4
        }
      ]
    },
    {
      "cell_type": "code",
      "source": [
        "ytrain[5:10],ytest[0:100]\n"
      ],
      "metadata": {
        "colab": {
          "base_uri": "https://localhost:8080/"
        },
        "id": "7rDT_7vo_Xyw",
        "outputId": "0948945d-6880-426e-9b1a-14ba0aaa3d15"
      },
      "execution_count": null,
      "outputs": [
        {
          "output_type": "execute_result",
          "data": {
            "text/plain": [
              "(array([2, 1, 3, 1, 4], dtype=uint8),\n",
              " array([7, 2, 1, 0, 4, 1, 4, 9, 5, 9, 0, 6, 9, 0, 1, 5, 9, 7, 3, 4, 9, 6,\n",
              "        6, 5, 4, 0, 7, 4, 0, 1, 3, 1, 3, 4, 7, 2, 7, 1, 2, 1, 1, 7, 4, 2,\n",
              "        3, 5, 1, 2, 4, 4, 6, 3, 5, 5, 6, 0, 4, 1, 9, 5, 7, 8, 9, 3, 7, 4,\n",
              "        6, 4, 3, 0, 7, 0, 2, 9, 1, 7, 3, 2, 9, 7, 7, 6, 2, 7, 8, 4, 7, 3,\n",
              "        6, 1, 3, 6, 9, 3, 1, 4, 1, 7, 6, 9], dtype=uint8))"
            ]
          },
          "metadata": {},
          "execution_count": 8
        }
      ]
    },
    {
      "cell_type": "code",
      "source": [
        "ytrain.shape,ytest.shape"
      ],
      "metadata": {
        "colab": {
          "base_uri": "https://localhost:8080/"
        },
        "id": "Fo-BzyXMYlqU",
        "outputId": "c571d934-c809-4d4e-d23e-1de4a854029e"
      },
      "execution_count": null,
      "outputs": [
        {
          "output_type": "execute_result",
          "data": {
            "text/plain": [
              "((60000,), (10000,))"
            ]
          },
          "metadata": {},
          "execution_count": 9
        }
      ]
    },
    {
      "cell_type": "code",
      "source": [
        "import matplotlib.pyplot as plt\n",
        "plt.imshow(Xtrain[0])"
      ],
      "metadata": {
        "colab": {
          "base_uri": "https://localhost:8080/",
          "height": 282
        },
        "id": "KhwB_Vpj_m1j",
        "outputId": "1ca268c5-2f77-4de5-e633-9e35feff0aca"
      },
      "execution_count": null,
      "outputs": [
        {
          "output_type": "execute_result",
          "data": {
            "text/plain": [
              "<matplotlib.image.AxesImage at 0x7f44e5d2f110>"
            ]
          },
          "metadata": {},
          "execution_count": 10
        },
        {
          "output_type": "display_data",
          "data": {
            "text/plain": [
              "<Figure size 432x288 with 1 Axes>"
            ],
            "image/png": "[encoded data removed]"
          },
          "metadata": {
            "needs_background": "light"
          }
        }
      ]
    },
    {
      "cell_type": "code",
      "source": [
        "ytrain[0]"
      ],
      "metadata": {
        "colab": {
          "base_uri": "https://localhost:8080/"
        },
        "id": "19TT9x0DAJIH",
        "outputId": "06595a29-4668-41c3-9621-7696553d80bc"
      },
      "execution_count": null,
      "outputs": [
        {
          "output_type": "execute_result",
          "data": {
            "text/plain": [
              "5"
            ]
          },
          "metadata": {},
          "execution_count": 11
        }
      ]
    },
    {
      "cell_type": "code",
      "source": [
        "Xtrain_r = Xtrain.reshape(60000,28*28)\n",
        "Xtest_r = Xtest.reshape(10000,28*28)"
      ],
      "metadata": {
        "id": "ISjzHetXAU6p"
      },
      "execution_count": null,
      "outputs": []
    },
    {
      "cell_type": "code",
      "source": [
        "Xtrain_r.shape,Xtest_r.shape"
      ],
      "metadata": {
        "colab": {
          "base_uri": "https://localhost:8080/"
        },
        "id": "5mLbotSRBE3J",
        "outputId": "5b88c4b3-f42a-4bc4-b506-019e55ba689d"
      },
      "execution_count": null,
      "outputs": [
        {
          "output_type": "execute_result",
          "data": {
            "text/plain": [
              "((60000, 784), (10000, 784))"
            ]
          },
          "metadata": {},
          "execution_count": 13
        }
      ]
    },
    {
      "cell_type": "code",
      "source": [
        "from keras import models, layers\n",
        "DL_model = models.Sequential()\n",
        "DL_model.add(layers.Dense(64,activation=\"relu\"))\n",
        "DL_model.add(layers.Dense(128,activation=\"relu\"))\n",
        "DL_model.add(layers.Dense(256,activation=\"relu\"))\n",
        "DL_model.add(layers.Dense(10,activation=\"softmax\"))"
      ],
      "metadata": {
        "id": "Il6B3pTsBaa6"
      },
      "execution_count": null,
      "outputs": []
    },
    {
      "cell_type": "code",
      "source": [
        "DL_model.compile(optimizer=\"adam\",loss=\"sparse_categorical_crossentropy\",metrics=[\"acc\"])"
      ],
      "metadata": {
        "id": "Etq2J-ZqCRNB"
      },
      "execution_count": null,
      "outputs": []
    },
    {
      "cell_type": "code",
      "source": [
        "DNN = DL_model.fit(Xtrain_r,ytrain,epochs=5,batch_size=16)"
      ],
      "metadata": {
        "colab": {
          "base_uri": "https://localhost:8080/"
        },
        "id": "PDbCtHTDFolq",
        "outputId": "02a0eb33-13db-48af-aad6-c935f61ba5a4"
      },
      "execution_count": null,
      "outputs": [
        {
          "output_type": "stream",
          "name": "stdout",
          "text": [
            "Epoch 1/5\n",
            "3750/3750 [==============================] - 11s 3ms/step - loss: 0.7630 - acc: 0.8595\n",
            "Epoch 2/5\n",
            "3750/3750 [==============================] - 11s 3ms/step - loss: 0.2444 - acc: 0.9329\n",
            "Epoch 3/5\n",
            "3750/3750 [==============================] - 11s 3ms/step - loss: 0.1983 - acc: 0.9469\n",
            "Epoch 4/5\n",
            "3750/3750 [==============================] - 11s 3ms/step - loss: 0.1731 - acc: 0.9535\n",
            "Epoch 5/5\n",
            "3750/3750 [==============================] - 11s 3ms/step - loss: 0.1542 - acc: 0.9591\n"
          ]
        }
      ]
    },
    {
      "cell_type": "code",
      "source": [
        "\n",
        "DL_model.evaluate(Xtest_r,ytest)"
      ],
      "metadata": {
        "colab": {
          "base_uri": "https://localhost:8080/"
        },
        "id": "k9fQi6EcGYnz",
        "outputId": "ad6a2c1d-dae0-48f1-91d9-57441989b292"
      },
      "execution_count": null,
      "outputs": [
        {
          "output_type": "stream",
          "name": "stdout",
          "text": [
            "313/313 [==============================] - 0s 1ms/step - loss: 0.1745 - acc: 0.9560\n"
          ]
        },
        {
          "output_type": "execute_result",
          "data": {
            "text/plain": [
              "[0.17448143661022186, 0.9559999704360962]"
            ]
          },
          "metadata": {},
          "execution_count": 11
        }
      ]
    },
    {
      "cell_type": "code",
      "source": [
        "record = DNN.history\n",
        "record.keys()"
      ],
      "metadata": {
        "colab": {
          "base_uri": "https://localhost:8080/"
        },
        "id": "m_5ErTp5HFB0",
        "outputId": "d7bbeec6-9a70-432e-a184-f6b4a802865b"
      },
      "execution_count": null,
      "outputs": [
        {
          "output_type": "execute_result",
          "data": {
            "text/plain": [
              "dict_keys(['loss', 'acc'])"
            ]
          },
          "metadata": {},
          "execution_count": 12
        }
      ]
    },
    {
      "cell_type": "code",
      "source": [
        "record[\"acc\"]"
      ],
      "metadata": {
        "colab": {
          "base_uri": "https://localhost:8080/"
        },
        "id": "fuJWiBUnJrXT",
        "outputId": "17d62a93-c020-4dc8-abdc-b5300b9e5259"
      },
      "execution_count": null,
      "outputs": [
        {
          "output_type": "execute_result",
          "data": {
            "text/plain": [
              "[0.8632333278656006,\n",
              " 0.9330333471298218,\n",
              " 0.9465833306312561,\n",
              " 0.9549999833106995,\n",
              " 0.9601500034332275]"
            ]
          },
          "metadata": {},
          "execution_count": 13
        }
      ]
    },
    {
      "cell_type": "code",
      "source": [
        "import matplotlib.pyplot as plt\n",
        "import numpy as np\n",
        "plt.xlabel(\"school\")\n",
        "plt.ylabel(\"homework\")\n",
        "plt.title(\"subject\")\n",
        "plt.plot(np.arange(1,len(record[\"acc\"])+1),record[\"acc\"])\n",
        "plt.scatter(np.arange(1,len(record[\"acc\"])+1),record[\"acc\"])"
      ],
      "metadata": {
        "colab": {
          "base_uri": "https://localhost:8080/",
          "height": 312
        },
        "id": "5h5IUuPUIHV4",
        "outputId": "b56aece9-b005-4713-96db-33894682fc7a"
      },
      "execution_count": null,
      "outputs": [
        {
          "output_type": "execute_result",
          "data": {
            "text/plain": [
              "<matplotlib.collections.PathCollection at 0x7f8180859fd0>"
            ]
          },
          "metadata": {},
          "execution_count": 14
        },
        {
          "output_type": "display_data",
          "data": {
            "text/plain": [
              "<Figure size 432x288 with 1 Axes>"
            ],
            "image/png": "[encoded data removed]"
          },
          "metadata": {
            "needs_background": "light"
          }
        }
      ]
    },
    {
      "cell_type": "code",
      "source": [
        "  import matplotlib.pyplot as plt\n",
        "import numpy as np\n",
        "plt.xlabel(\"school\")\n",
        "plt.ylabel(\"homework\")\n",
        "plt.title(\"subject\")\n",
        "plt.plot(np.arange(1,len(record[\"loss\"])+1),record[\"loss\"])\n",
        "plt.scatter(np.arange(1,len(record[\"loss\"])+1),record[\"loss\"])"
      ],
      "metadata": {
        "colab": {
          "base_uri": "https://localhost:8080/",
          "height": 312
        },
        "id": "SYfV-6N8LrCI",
        "outputId": "f5d256aa-330e-4870-af41-8df0028e0255"
      },
      "execution_count": null,
      "outputs": [
        {
          "output_type": "execute_result",
          "data": {
            "text/plain": [
              "<matplotlib.collections.PathCollection at 0x7f8182025310>"
            ]
          },
          "metadata": {},
          "execution_count": 15
        },
        {
          "output_type": "display_data",
          "data": {
            "text/plain": [
              "<Figure size 432x288 with 1 Axes>"
            ],
            "image/png": "[encoded data removed]"
          },
          "metadata": {
            "needs_background": "light"
          }
        }
      ]
    },
    {
      "cell_type": "markdown",
      "source": [
        "## Predicting a simple"
      ],
      "metadata": {
        "id": "MW0Iwax9OY3q"
      }
    },
    {
      "cell_type": "code",
      "source": [
        "ytest[0]"
      ],
      "metadata": {
        "colab": {
          "base_uri": "https://localhost:8080/",
          "height": 169
        },
        "id": "zjf4_3BhPbLZ",
        "outputId": "875e66de-418d-495d-dd5c-74dcdb1601cf"
      },
      "execution_count": null,
      "outputs": [
        {
          "output_type": "error",
          "ename": "NameError",
          "evalue": "ignored",
          "traceback": [
            "\u001b[0;31m---------------------------------------------------------------------------\u001b[0m",
            "\u001b[0;31mNameError\u001b[0m                                 Traceback (most recent call last)",
            "\u001b[0;32m<ipython-input-2-dd1910aef998>\u001b[0m in \u001b[0;36m<module>\u001b[0;34m()\u001b[0m\n\u001b[0;32m----> 1\u001b[0;31m \u001b[0mytest\u001b[0m\u001b[0;34m[\u001b[0m\u001b[0;36m0\u001b[0m\u001b[0;34m]\u001b[0m\u001b[0;34m\u001b[0m\u001b[0;34m\u001b[0m\u001b[0m\n\u001b[0m",
            "\u001b[0;31mNameError\u001b[0m: name 'ytest' is not defined"
          ]
        }
      ]
    },
    {
      "cell_type": "code",
      "source": [
        "np.set_printoptions(suppress=True)"
      ],
      "metadata": {
        "id": "txn1xaFePoEK"
      },
      "execution_count": null,
      "outputs": []
    },
    {
      "cell_type": "code",
      "source": [
        "DL_model.predict(Xtest_r[[0]])"
      ],
      "metadata": {
        "id": "jYruttXROgOQ"
      },
      "execution_count": null,
      "outputs": []
    },
    {
      "cell_type": "code",
      "source": [
        "DL_model.predict(Xtest_r[[0]]).argmax(axis=1)"
      ],
      "metadata": {
        "id": "ZQ6Qkq5oPOIO"
      },
      "execution_count": null,
      "outputs": []
    },
    {
      "cell_type": "code",
      "source": [
        "plt.imshow(Xtest_r[[0]].reshape(28,28))"
      ],
      "metadata": {
        "id": "kF36rLBAR-Kb"
      },
      "execution_count": null,
      "outputs": []
    },
    {
      "cell_type": "markdown",
      "source": [
        "## SLICING PREDICTING IMAGE"
      ],
      "metadata": {
        "id": "B0uUf1xiTWhm"
      }
    },
    {
      "cell_type": "code",
      "source": [
        "DL_model.predict(Xtest_r[0:10]).argmax(axis=1),ytest[0:10]"
      ],
      "metadata": {
        "id": "wZTecQfzTVr9"
      },
      "execution_count": null,
      "outputs": []
    },
    {
      "cell_type": "markdown",
      "source": [
        "## plotting confusion matrix of keras model"
      ],
      "metadata": {
        "id": "LAJ-A5wKT_7k"
      }
    },
    {
      "cell_type": "code",
      "source": [
        "from sklearn.metrics import confusion_matrix\n",
        "cf = confusion_matrix(ytest,DL_model.predict(Xtest_r).argmax(axis=1))\n",
        "cf"
      ],
      "metadata": {
        "id": "KMpANuukT1Qb"
      },
      "execution_count": null,
      "outputs": []
    },
    {
      "cell_type": "code",
      "source": [
        "from sklearn.metrics import confusion_matrix\n",
        "pred = DL_model.predict(Xtest_r).argmax(axis=1)\n",
        "cf = confusion_matrix(ytest,pred)\n",
        "cf"
      ],
      "metadata": {
        "id": "T-1h1FVdLylT"
      },
      "execution_count": null,
      "outputs": []
    },
    {
      "cell_type": "code",
      "source": [
        "import seaborn as s\n",
        "s.heatmap(cf,annot=True,fmt=\"g\",cmap=\"Accent_r\")"
      ],
      "metadata": {
        "id": "fvd83V7pS7el"
      },
      "execution_count": null,
      "outputs": []
    },
    {
      "cell_type": "code",
      "source": [
        "from keras import models, layers\n",
        "DL_model = models.Sequential()\n",
        "DL_model.add(layers.Dense(64,activation=\"relu\"))\n",
        "DL_model.add(layers.Dense(128,activation=\"relu\"))\n",
        "DL_model.add(layers.Dense(256,activation=\"relu\"))\n",
        "DL_model.add(layers.Dense(10,activation=\"softmax\"))\n",
        "DL_model.compile(optimizer=\"adam\",loss=\"sparse_categorical_crossentropy\",metrics=[\"acc\"])\n",
        "\n",
        "DNN_V = DL_model.fit(Xtrain_r,ytrain,epochs=5,validation_split=0.15)"
      ],
      "metadata": {
        "id": "QXaf81VHVCBh",
        "colab": {
          "base_uri": "https://localhost:8080/"
        },
        "outputId": "217e6de8-a5fd-4ad7-f890-beae52badb30"
      },
      "execution_count": null,
      "outputs": [
        {
          "output_type": "stream",
          "name": "stdout",
          "text": [
            "Epoch 1/5\n",
            "1594/1594 [==============================] - 4s 2ms/step - loss: 0.8651 - acc: 0.8422 - val_loss: 0.3054 - val_acc: 0.9166\n",
            "Epoch 2/5\n",
            "1594/1594 [==============================] - 3s 2ms/step - loss: 0.2607 - acc: 0.9288 - val_loss: 0.2175 - val_acc: 0.9411\n",
            "Epoch 3/5\n",
            "1594/1594 [==============================] - 3s 2ms/step - loss: 0.1870 - acc: 0.9474 - val_loss: 0.1951 - val_acc: 0.9480\n",
            "Epoch 4/5\n",
            "1594/1594 [==============================] - 3s 2ms/step - loss: 0.1642 - acc: 0.9538 - val_loss: 0.1677 - val_acc: 0.9568\n",
            "Epoch 5/5\n",
            "1594/1594 [==============================] - 3s 2ms/step - loss: 0.1443 - acc: 0.9587 - val_loss: 0.1505 - val_acc: 0.9583\n"
          ]
        }
      ]
    },
    {
      "cell_type": "code",
      "source": [
        "record = DNN_V.history\n",
        "record.keys()"
      ],
      "metadata": {
        "colab": {
          "base_uri": "https://localhost:8080/"
        },
        "id": "T7rJjbF3Q0OC",
        "outputId": "b9509ea9-7d3e-4dbc-823f-012e706a8fa6"
      },
      "execution_count": null,
      "outputs": [
        {
          "output_type": "execute_result",
          "data": {
            "text/plain": [
              "dict_keys(['loss', 'acc', 'val_loss', 'val_acc'])"
            ]
          },
          "metadata": {},
          "execution_count": 33
        }
      ]
    },
    {
      "cell_type": "code",
      "source": [
        "train_acc = record[\"acc\"]\n",
        "train_loss = record[\"loss\"]\n",
        "valid_acc = record[\"val_acc\"]\n",
        "valid_loss = record[\"val_loss\"]"
      ],
      "metadata": {
        "id": "96oJxDVqSbrt"
      },
      "execution_count": null,
      "outputs": []
    },
    {
      "cell_type": "code",
      "source": [],
      "metadata": {
        "id": "J-vZA_YaS1Us"
      },
      "execution_count": null,
      "outputs": []
    },
    {
      "cell_type": "markdown",
      "source": [
        "plotting validation and training accuracy\n"
      ],
      "metadata": {
        "id": "v6PjdRvJS-X3"
      }
    },
    {
      "cell_type": "code",
      "source": [
        "import matplotlib.pyplot as plt\n",
        "import numpy as np\n",
        "plt.xlabel(\"subject\")\n",
        "plt.ylabel(\"student_lose\")\n",
        "plt.title(\"class_zero\")\n",
        "plt.plot(np.arange(1,len(train_acc)+1),train_acc)\n",
        "plt.plot(np.arange(1,len(train_acc)+1),valid_acc)\n",
        "plt.scatter(np.arange(1,len(train_acc)+1),train_acc)\n",
        "plt.scatter(np.arange(1,len(train_acc)+1),valid_acc)\n"
      ],
      "metadata": {
        "colab": {
          "base_uri": "https://localhost:8080/",
          "height": 312
        },
        "id": "XEBynVU_TEWs",
        "outputId": "30328766-b146-41d4-8ab6-a21fd30cd22d"
      },
      "execution_count": null,
      "outputs": [
        {
          "output_type": "execute_result",
          "data": {
            "text/plain": [
              "<matplotlib.collections.PathCollection at 0x7f81796feb90>"
            ]
          },
          "metadata": {},
          "execution_count": 43
        },
        {
          "output_type": "display_data",
          "data": {
            "text/plain": [
              "<Figure size 432x288 with 1 Axes>"
            ],
            "image/png": "[encoded data removed]"
          },
          "metadata": {
            "needs_background": "light"
          }
        }
      ]
    },
    {
      "cell_type": "code",
      "source": [
        "import matplotlib.pyplot as plt\n",
        "import numpy as np\n",
        "plt.xlabel(\"subject\")\n",
        "plt.ylabel(\"student_lose\")\n",
        "plt.title(\"class_zero\")\n",
        "plt.plot(np.arange(1,len(train_acc)+1),train_loss)\n",
        "plt.plot(np.arange(1,len(train_acc)+1),valid_loss)\n",
        "plt.scatter(np.arange(1,len(train_acc)+1),train_loss)\n",
        "plt.scatter(np.arange(1,len(train_acc)+1),valid_loss)"
      ],
      "metadata": {
        "colab": {
          "base_uri": "https://localhost:8080/",
          "height": 312
        },
        "id": "IlP69jM5T_r1",
        "outputId": "8645e4e4-7bed-424d-e5f1-487e6b7371d9"
      },
      "execution_count": null,
      "outputs": [
        {
          "output_type": "execute_result",
          "data": {
            "text/plain": [
              "<matplotlib.collections.PathCollection at 0x7f81797fe810>"
            ]
          },
          "metadata": {},
          "execution_count": 41
        },
        {
          "output_type": "display_data",
          "data": {
            "text/plain": [
              "<Figure size 432x288 with 1 Axes>"
            ],
            "image/png": "[encoded data removed]"
          },
          "metadata": {
            "needs_background": "light"
          }
        }
      ]
    },
    {
      "cell_type": "code",
      "source": [
        "import matplotlib.pyplot as plt\n",
        "import numpy as np\n",
        "f=plt.figure()\n",
        "f.set_figwidth(20)\n",
        "f.set_figheight(10)\n",
        "plt.xlabel(\"subject\")\n",
        "plt.ylabel(\"student_lose\")\n",
        "plt.title(\"class_zero\")\n",
        "plt.plot(np.arange(1,len(train_acc)+1),train_acc,marker='o',color='black')\n",
        "plt.plot(np.arange(1,len(train_acc)+1),valid_acc,marker='x')\n",
        "plt.legend([\"Train_acc\", \"Validation_acc\"])\n"
      ],
      "metadata": {
        "colab": {
          "base_uri": "https://localhost:8080/",
          "height": 638
        },
        "id": "-r0HjkUtUl70",
        "outputId": "9e48cfc0-4676-4f28-e083-aafe748536e4"
      },
      "execution_count": null,
      "outputs": [
        {
          "output_type": "execute_result",
          "data": {
            "text/plain": [
              "<matplotlib.legend.Legend at 0x7f8177cf0250>"
            ]
          },
          "metadata": {},
          "execution_count": 58
        },
        {
          "output_type": "display_data",
          "data": {
            "text/plain": [
              "<Figure size 1440x720 with 1 Axes>"
            ],
            "image/png": "[encoded data removed]"
          },
          "metadata": {
            "needs_background": "light"
          }
        }
      ]
    },
    {
      "cell_type": "code",
      "source": [],
      "metadata": {
        "id": "NtVX0pM4WJs4"
      },
      "execution_count": null,
      "outputs": []
    }
  ]
}